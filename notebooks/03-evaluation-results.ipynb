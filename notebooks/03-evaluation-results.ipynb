{
 "cells": [
  {
   "cell_type": "code",
   "execution_count": 1,
   "metadata": {},
   "outputs": [
    {
     "name": "stderr",
     "output_type": "stream",
     "text": [
      "/home/fil126/Desktop/Study/PMLDL/Assignment2/venv/lib/python3.10/site-packages/tqdm/auto.py:21: TqdmWarning: IProgress not found. Please update jupyter and ipywidgets. See https://ipywidgets.readthedocs.io/en/stable/user_install.html\n",
      "  from .autonotebook import tqdm as notebook_tqdm\n"
     ]
    }
   ],
   "source": [
    "import pandas as pd\n",
    "import numpy as np\n",
    "from implicit.cpu.als import AlternatingLeastSquares\n",
    "from scipy.sparse import csr_matrix\n"
   ]
  },
  {
   "cell_type": "code",
   "execution_count": 2,
   "metadata": {},
   "outputs": [
    {
     "data": {
      "text/html": [
       "<div>\n",
       "<style scoped>\n",
       "    .dataframe tbody tr th:only-of-type {\n",
       "        vertical-align: middle;\n",
       "    }\n",
       "\n",
       "    .dataframe tbody tr th {\n",
       "        vertical-align: top;\n",
       "    }\n",
       "\n",
       "    .dataframe thead th {\n",
       "        text-align: right;\n",
       "    }\n",
       "</style>\n",
       "<table border=\"1\" class=\"dataframe\">\n",
       "  <thead>\n",
       "    <tr style=\"text-align: right;\">\n",
       "      <th></th>\n",
       "      <th>model_name</th>\n",
       "      <th>AUC_score@10</th>\n",
       "      <th>precision@10</th>\n",
       "    </tr>\n",
       "  </thead>\n",
       "  <tbody>\n",
       "    <tr>\n",
       "      <th>0</th>\n",
       "      <td>fac100_reg0.05</td>\n",
       "      <td>0.582636</td>\n",
       "      <td>0.194799</td>\n",
       "    </tr>\n",
       "    <tr>\n",
       "      <th>1</th>\n",
       "      <td>fac100_reg0.01</td>\n",
       "      <td>0.582258</td>\n",
       "      <td>0.196217</td>\n",
       "    </tr>\n",
       "    <tr>\n",
       "      <th>2</th>\n",
       "      <td>fac200_reg0.05</td>\n",
       "      <td>0.543765</td>\n",
       "      <td>0.107171</td>\n",
       "    </tr>\n",
       "    <tr>\n",
       "      <th>3</th>\n",
       "      <td>fac300_reg0.01</td>\n",
       "      <td>0.525364</td>\n",
       "      <td>0.062411</td>\n",
       "    </tr>\n",
       "    <tr>\n",
       "      <th>4</th>\n",
       "      <td>fac300_reg0.05</td>\n",
       "      <td>0.525682</td>\n",
       "      <td>0.062727</td>\n",
       "    </tr>\n",
       "    <tr>\n",
       "      <th>5</th>\n",
       "      <td>fac300_reg0.1</td>\n",
       "      <td>0.526565</td>\n",
       "      <td>0.062727</td>\n",
       "    </tr>\n",
       "    <tr>\n",
       "      <th>6</th>\n",
       "      <td>fac200_reg0.01</td>\n",
       "      <td>0.543909</td>\n",
       "      <td>0.104807</td>\n",
       "    </tr>\n",
       "    <tr>\n",
       "      <th>7</th>\n",
       "      <td>fac50_reg0.01</td>\n",
       "      <td>0.600991</td>\n",
       "      <td>0.252167</td>\n",
       "    </tr>\n",
       "    <tr>\n",
       "      <th>8</th>\n",
       "      <td>fac50_reg0.05</td>\n",
       "      <td>0.600667</td>\n",
       "      <td>0.250591</td>\n",
       "    </tr>\n",
       "    <tr>\n",
       "      <th>9</th>\n",
       "      <td>fac200_reg0.1</td>\n",
       "      <td>0.543991</td>\n",
       "      <td>0.105910</td>\n",
       "    </tr>\n",
       "    <tr>\n",
       "      <th>10</th>\n",
       "      <td>fac100_reg0.1</td>\n",
       "      <td>0.580806</td>\n",
       "      <td>0.192750</td>\n",
       "    </tr>\n",
       "    <tr>\n",
       "      <th>11</th>\n",
       "      <td>fac50_reg0.1</td>\n",
       "      <td>0.600927</td>\n",
       "      <td>0.250749</td>\n",
       "    </tr>\n",
       "  </tbody>\n",
       "</table>\n",
       "</div>"
      ],
      "text/plain": [
       "        model_name  AUC_score@10  precision@10\n",
       "0   fac100_reg0.05      0.582636      0.194799\n",
       "1   fac100_reg0.01      0.582258      0.196217\n",
       "2   fac200_reg0.05      0.543765      0.107171\n",
       "3   fac300_reg0.01      0.525364      0.062411\n",
       "4   fac300_reg0.05      0.525682      0.062727\n",
       "5    fac300_reg0.1      0.526565      0.062727\n",
       "6   fac200_reg0.01      0.543909      0.104807\n",
       "7    fac50_reg0.01      0.600991      0.252167\n",
       "8    fac50_reg0.05      0.600667      0.250591\n",
       "9    fac200_reg0.1      0.543991      0.105910\n",
       "10   fac100_reg0.1      0.580806      0.192750\n",
       "11    fac50_reg0.1      0.600927      0.250749"
      ]
     },
     "execution_count": 2,
     "metadata": {},
     "output_type": "execute_result"
    }
   ],
   "source": [
    "results = pd.read_csv(\"../benchmark/data/eval_results.csv\")\n",
    "\n",
    "results"
   ]
  },
  {
   "cell_type": "code",
   "execution_count": 3,
   "metadata": {},
   "outputs": [
    {
     "data": {
      "text/plain": [
       "model_name      fac50_reg0.01\n",
       "AUC_score@10         0.600991\n",
       "precision@10         0.252167\n",
       "Name: 7, dtype: object"
      ]
     },
     "execution_count": 3,
     "metadata": {},
     "output_type": "execute_result"
    }
   ],
   "source": [
    "max_AUC_ind = results[\"AUC_score@10\"].argmax()\n",
    "\n",
    "results.loc[max_AUC_ind]"
   ]
  },
  {
   "cell_type": "code",
   "execution_count": 4,
   "metadata": {},
   "outputs": [
    {
     "data": {
      "text/plain": [
       "model_name      fac50_reg0.01\n",
       "AUC_score@10         0.600991\n",
       "precision@10         0.252167\n",
       "Name: 7, dtype: object"
      ]
     },
     "execution_count": 4,
     "metadata": {},
     "output_type": "execute_result"
    }
   ],
   "source": [
    "max_prec_ind = results[\"precision@10\"].argmax()\n",
    "\n",
    "results.loc[max_prec_ind]"
   ]
  },
  {
   "cell_type": "markdown",
   "metadata": {},
   "source": [
    "The ALS model with 50 latent factors and 0.01 regulariation parameter is the best"
   ]
  },
  {
   "cell_type": "markdown",
   "metadata": {},
   "source": [
    "## Recommendation example"
   ]
  },
  {
   "cell_type": "code",
   "execution_count": 5,
   "metadata": {},
   "outputs": [
    {
     "name": "stderr",
     "output_type": "stream",
     "text": [
      "/home/fil126/Desktop/Study/PMLDL/Assignment2/venv/lib/python3.10/site-packages/implicit/cpu/als.py:95: RuntimeWarning: OpenBLAS is configured to use 8 threads. It is highly recommended to disable its internal threadpool by setting the environment variable 'OPENBLAS_NUM_THREADS=1' or by calling 'threadpoolctl.threadpool_limits(1, \"blas\")'. Having OpenBLAS use a threadpool can lead to severe performance issues here.\n",
      "  check_blas_config()\n"
     ]
    }
   ],
   "source": [
    "model = AlternatingLeastSquares.load(\"../models/fac50_reg0.01.npz\")"
   ]
  },
  {
   "cell_type": "code",
   "execution_count": 6,
   "metadata": {},
   "outputs": [
    {
     "data": {
      "text/plain": [
       "array([229, 294, 380, 227, 300, 243, 748, 449, 288, 450, 222,  62, 271,\n",
       "       343, 901, 228, 258, 230,  50])"
      ]
     },
     "execution_count": 6,
     "metadata": {},
     "output_type": "execute_result"
    }
   ],
   "source": [
    "interactions = pd.read_csv(\"../data/raw/u.data\", sep=\"\\t\", header=None)\n",
    "interactions.columns = [\"user\", \"item\", \"rating\", \"timestamp\"]\n",
    "\n",
    "user_id = 126  # actual id (in raw dataset) is 127\n",
    "\n",
    "interactions = interactions[(interactions[\"rating\"] > 3) & (interactions[\"user\"] == user_id + 1)]\n",
    "liked_items = interactions[\"item\"].values\n",
    "liked_items  # actual ids (in raw dataset) are higher by one"
   ]
  },
  {
   "cell_type": "code",
   "execution_count": 7,
   "metadata": {},
   "outputs": [
    {
     "data": {
      "text/plain": [
       "257"
      ]
     },
     "execution_count": 7,
     "metadata": {},
     "output_type": "execute_result"
    }
   ],
   "source": [
    "recommendations, scores = model.recommend(user_id, csr_matrix(liked_items), N=1)\n",
    "recommendation = recommendations[0]\n",
    "recommendation"
   ]
  },
  {
   "cell_type": "code",
   "execution_count": 8,
   "metadata": {},
   "outputs": [
    {
     "name": "stdout",
     "output_type": "stream",
     "text": [
      "User liked movies:\n",
      "['Star Trek IV: The Voyage Home (1986)' 'Breakdown (1997)'\n",
      " \"Muriel's Wedding (1994)\" 'Star Trek: The Wrath of Khan (1982)'\n",
      " 'In & Out (1997)' \"Smilla's Sense of Snow (1997)\"\n",
      " 'MatchMaker, The (1997)' 'Star Trek V: The Final Frontier (1989)'\n",
      " 'Evita (1996)' 'Grease (1978)' 'Sling Blade (1996)'\n",
      " 'Santa Clause, The (1994)' 'Good Will Hunting (1997)'\n",
      " 'Apostle, The (1997)' 'Big Lebowski, The (1998)'\n",
      " 'Star Trek III: The Search for Spock (1984)'\n",
      " 'George of the Jungle (1997)' 'Batman Returns (1992)'\n",
      " 'Legends of the Fall (1994)']\n",
      "\n",
      "Recommended movie:\n",
      "Contact (1997)\n"
     ]
    }
   ],
   "source": [
    "movies = pd.read_csv(\"../data/raw/u.item\", sep=\"|\", header=None, encoding=\"latin-1\")\n",
    "\n",
    "liked_movies = movies[1][liked_items]\n",
    "recommended_movie = movies[1][recommendation]\n",
    "\n",
    "print(\"User liked movies:\")\n",
    "print(liked_movies.values)\n",
    "print()\n",
    "print(\"Recommended movie:\")\n",
    "print(recommended_movie)"
   ]
  }
 ],
 "metadata": {
  "kernelspec": {
   "display_name": "venv",
   "language": "python",
   "name": "python3"
  },
  "language_info": {
   "codemirror_mode": {
    "name": "ipython",
    "version": 3
   },
   "file_extension": ".py",
   "mimetype": "text/x-python",
   "name": "python",
   "nbconvert_exporter": "python",
   "pygments_lexer": "ipython3",
   "version": "3.10.12"
  }
 },
 "nbformat": 4,
 "nbformat_minor": 2
}
